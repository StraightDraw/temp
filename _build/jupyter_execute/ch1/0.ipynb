{
 "cells": [
  {
   "cell_type": "markdown",
   "metadata": {},
   "source": [
    "# Scientific Computing"
   ]
  },
  {
   "cell_type": "markdown",
   "metadata": {},
   "source": [
    "Like most calculators and spreadsheets, Python can and will calculate basic arithmetic.\n",
    "\n",
    "```\n",
    "2 + 3 \n",
    "```\n",
    "```\n",
    "5\n",
    "```\n",
    "We use the asterix key (*) for multiplication.\n",
    "\n",
    "```\n",
    "5 * 8\n",
    "```\n",
    "40\n",
    "\n",
    "The only dificulty arises when we try to indicate an exponent.\n",
    "\n",
    "```\n",
    "2^5\n",
    "```\n",
    "7\n",
    "\n",
    "The correct way is as follows:\n",
    "\n",
    "```\n",
    "2 ** 5\n",
    "```\n",
    "```\n",
    "32\n",
    "```\n",
    "\n",
    "Other stuff to follow.\n"
   ]
  },
  {
   "cell_type": "code",
   "execution_count": 2,
   "metadata": {},
   "outputs": [
    {
     "data": {
      "text/plain": [
       "7"
      ]
     },
     "execution_count": 2,
     "metadata": {},
     "output_type": "execute_result"
    }
   ],
   "source": [
    "2^5"
   ]
  }
 ],
 "metadata": {
  "kernelspec": {
   "display_name": "Python 3 (ipykernel)",
   "language": "python",
   "name": "python3"
  },
  "language_info": {
   "codemirror_mode": {
    "name": "ipython",
    "version": 3
   },
   "file_extension": ".py",
   "mimetype": "text/x-python",
   "name": "python",
   "nbconvert_exporter": "python",
   "pygments_lexer": "ipython3",
   "version": "3.11.7"
  }
 },
 "nbformat": 4,
 "nbformat_minor": 4
}