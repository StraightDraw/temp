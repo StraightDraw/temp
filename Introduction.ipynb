{
 "cells": [
  {
   "cell_type": "markdown",
   "metadata": {},
   "source": [
    "# Python with Datascience Package: Tutorial"
   ]
  },
  {
   "cell_type": "markdown",
   "metadata": {},
   "source": [
    "## This tutorial is designed for students taking Introduction to Statistics at UNG (MATH 1401)."
   ]
  },
  {
   "cell_type": "markdown",
   "metadata": {},
   "source": [
    "````{margin}\n",
    "```{seealso}\n",
    "Additional notebooks for 1401 level statistics activities: [Stats](https://straightdraw.github.io/stats/Introduction.html)\n",
    "```\n",
    "````\n",
    "This tutorial covers the basics on how to use Python in several ways that will help us explore data for introductory statistics.\n",
    "\n",
    "1. Scientific Computing\n",
    "2. Visualizations and Graphics\n",
    "3. Hypothesis Testing"
   ]
  },
  {
   "cell_type": "code",
   "execution_count": null,
   "metadata": {},
   "outputs": [],
   "source": []
  }
 ],
 "metadata": {
  "kernelspec": {
   "display_name": "Python 3 (ipykernel)",
   "language": "python",
   "name": "python3"
  },
  "language_info": {
   "codemirror_mode": {
    "name": "ipython",
    "version": 3
   },
   "file_extension": ".py",
   "mimetype": "text/x-python",
   "name": "python",
   "nbconvert_exporter": "python",
   "pygments_lexer": "ipython3",
   "version": "3.11.7"
  }
 },
 "nbformat": 4,
 "nbformat_minor": 4
}
